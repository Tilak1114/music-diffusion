{
 "cells": [
  {
   "cell_type": "code",
   "execution_count": 6,
   "metadata": {},
   "outputs": [],
   "source": [
    "import librosa\n",
    "import torch\n",
    "from transformers import ClapAudioModelWithProjection, ClapProcessor"
   ]
  },
  {
   "cell_type": "code",
   "execution_count": 14,
   "metadata": {},
   "outputs": [
    {
     "name": "stdout",
     "output_type": "stream",
     "text": [
      "Similarity score: 0.5138895511627197\n"
     ]
    }
   ],
   "source": [
    "def get_embedding(file_path, processor, model, sample_rate=48000):\n",
    "    audio, _ = librosa.load(file_path, sr=sample_rate)\n",
    "    inputs = processor(\n",
    "        audios=audio,\n",
    "        sampling_rate=sample_rate,\n",
    "        return_tensors=\"pt\"\n",
    "    )\n",
    "    with torch.no_grad():\n",
    "        outputs = model(**inputs)\n",
    "    return outputs.audio_embeds  # Aggregate the embeddings if necessary\n",
    "\n",
    "# File paths\n",
    "wav_file_path1 = '/data/tilak/projects/mustango/ground_truth/DnrBxSlKd68_70_80.wav'\n",
    "wav_file_path2 = '/data/tilak/projects/mustango/tmp/epoch_65/DnrBxSlKd68_0_30.wav'  # Replace with your second file's path\n",
    "\n",
    "# Initialize model and processor\n",
    "model = ClapAudioModelWithProjection.from_pretrained(\"laion/clap-htsat-fused\")\n",
    "processor = ClapProcessor.from_pretrained(\"laion/clap-htsat-fused\")\n",
    "\n",
    "# Get embeddings for both audio files\n",
    "embedding1 = get_embedding(wav_file_path1, processor, model)\n",
    "embedding2 = get_embedding(wav_file_path2, processor, model)\n",
    "\n",
    "# Calculate cosine similarity\n",
    "cosine_similarity = torch.nn.functional.cosine_similarity(embedding1, embedding2, dim=1)\n",
    "\n",
    "# Print the similarity score\n",
    "print(f\"Similarity score: {cosine_similarity.item()}\")\n"
   ]
  }
 ],
 "metadata": {
  "kernelspec": {
   "display_name": "tilakenv",
   "language": "python",
   "name": "python3"
  },
  "language_info": {
   "codemirror_mode": {
    "name": "ipython",
    "version": 3
   },
   "file_extension": ".py",
   "mimetype": "text/x-python",
   "name": "python",
   "nbconvert_exporter": "python",
   "pygments_lexer": "ipython3",
   "version": "3.11.7"
  }
 },
 "nbformat": 4,
 "nbformat_minor": 2
}
